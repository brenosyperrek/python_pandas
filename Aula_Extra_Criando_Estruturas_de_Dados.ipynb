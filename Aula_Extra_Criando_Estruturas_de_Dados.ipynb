{
  "nbformat": 4,
  "nbformat_minor": 0,
  "metadata": {
    "colab": {
      "provenance": [],
      "collapsed_sections": [],
      "authorship_tag": "ABX9TyNm+G/Wgd3XHH53BnDmrM2a",
      "include_colab_link": true
    },
    "kernelspec": {
      "name": "python3",
      "display_name": "Python 3"
    },
    "language_info": {
      "name": "python"
    }
  },
  "cells": [
    {
      "cell_type": "markdown",
      "metadata": {
        "id": "view-in-github",
        "colab_type": "text"
      },
      "source": [
        "<a href=\"https://colab.research.google.com/github/brenosyperrek/python_pandas/blob/main/Aula_Extra_Criando_Estruturas_de_Dados.ipynb\" target=\"_parent\"><img src=\"https://colab.research.google.com/assets/colab-badge.svg\" alt=\"Open In Colab\"/></a>"
      ]
    },
    {
      "cell_type": "code",
      "execution_count": 1,
      "metadata": {
        "id": "9YOonnrpSY_o"
      },
      "outputs": [],
      "source": [
        "import pandas as pd"
      ]
    },
    {
      "cell_type": "markdown",
      "source": [
        "# Series"
      ],
      "metadata": {
        "id": "OE9a_PXhSmqL"
      }
    },
    {
      "cell_type": "code",
      "source": [
        "data = [1, 2, 3, 4, 5]"
      ],
      "metadata": {
        "id": "Bdqlju2FSjK3"
      },
      "execution_count": 2,
      "outputs": []
    },
    {
      "cell_type": "code",
      "source": [
        "s = pd.Series(data)"
      ],
      "metadata": {
        "id": "4TObgYFIS6By"
      },
      "execution_count": 3,
      "outputs": []
    },
    {
      "cell_type": "code",
      "source": [
        "s"
      ],
      "metadata": {
        "colab": {
          "base_uri": "https://localhost:8080/"
        },
        "id": "YU2nsPdkTB-y",
        "outputId": "d6a66272-8637-4d37-b112-fea28ab10f2b"
      },
      "execution_count": 4,
      "outputs": [
        {
          "output_type": "execute_result",
          "data": {
            "text/plain": [
              "0    1\n",
              "1    2\n",
              "2    3\n",
              "3    4\n",
              "4    5\n",
              "dtype: int64"
            ]
          },
          "metadata": {},
          "execution_count": 4
        }
      ]
    },
    {
      "cell_type": "code",
      "source": [
        "index = ['Linha' + str(i) for i in range(5)]"
      ],
      "metadata": {
        "id": "Mw3nN_LVTC5y"
      },
      "execution_count": 5,
      "outputs": []
    },
    {
      "cell_type": "code",
      "source": [
        "index"
      ],
      "metadata": {
        "colab": {
          "base_uri": "https://localhost:8080/"
        },
        "id": "4UWbTlHGTT7q",
        "outputId": "2b66437d-d92d-4a80-bcad-fdf4b21d0a2e"
      },
      "execution_count": 6,
      "outputs": [
        {
          "output_type": "execute_result",
          "data": {
            "text/plain": [
              "['Linha0', 'Linha1', 'Linha2', 'Linha3', 'Linha4']"
            ]
          },
          "metadata": {},
          "execution_count": 6
        }
      ]
    },
    {
      "cell_type": "code",
      "source": [
        "s = pd.Series(data = data, index = index)"
      ],
      "metadata": {
        "id": "x7jt3o4ITeUi"
      },
      "execution_count": 8,
      "outputs": []
    },
    {
      "cell_type": "code",
      "source": [
        "s"
      ],
      "metadata": {
        "colab": {
          "base_uri": "https://localhost:8080/"
        },
        "id": "Us4HDMpGTlga",
        "outputId": "75c70e55-2d44-44ca-d0fb-163b62df3ba3"
      },
      "execution_count": 9,
      "outputs": [
        {
          "output_type": "execute_result",
          "data": {
            "text/plain": [
              "Linha0    1\n",
              "Linha1    2\n",
              "Linha2    3\n",
              "Linha3    4\n",
              "Linha4    5\n",
              "dtype: int64"
            ]
          },
          "metadata": {},
          "execution_count": 9
        }
      ]
    },
    {
      "cell_type": "code",
      "source": [
        "data = {'Linha' + str(i) : i for i in range(5)}"
      ],
      "metadata": {
        "id": "3qS8hP7zTr9z"
      },
      "execution_count": 11,
      "outputs": []
    },
    {
      "cell_type": "code",
      "source": [
        "data"
      ],
      "metadata": {
        "colab": {
          "base_uri": "https://localhost:8080/"
        },
        "id": "gYWjBkBoT7Xq",
        "outputId": "fb5de0a7-c60f-4c21-ed44-127f027dd818"
      },
      "execution_count": 12,
      "outputs": [
        {
          "output_type": "execute_result",
          "data": {
            "text/plain": [
              "{'Linha0': 0, 'Linha1': 1, 'Linha2': 2, 'Linha3': 3, 'Linha4': 4}"
            ]
          },
          "metadata": {},
          "execution_count": 12
        }
      ]
    },
    {
      "cell_type": "code",
      "source": [
        "s = pd.Series(data)"
      ],
      "metadata": {
        "id": "wlBfsGgmUCw6"
      },
      "execution_count": 13,
      "outputs": []
    },
    {
      "cell_type": "code",
      "source": [
        "s"
      ],
      "metadata": {
        "colab": {
          "base_uri": "https://localhost:8080/"
        },
        "id": "T3zwEhmEUFxM",
        "outputId": "4c9d1a14-a14b-45aa-8ae4-4738b9f0ae48"
      },
      "execution_count": 14,
      "outputs": [
        {
          "output_type": "execute_result",
          "data": {
            "text/plain": [
              "Linha0    0\n",
              "Linha1    1\n",
              "Linha2    2\n",
              "Linha3    3\n",
              "Linha4    4\n",
              "dtype: int64"
            ]
          },
          "metadata": {},
          "execution_count": 14
        }
      ]
    },
    {
      "cell_type": "code",
      "source": [
        "s1 = s + 2"
      ],
      "metadata": {
        "id": "6RwigaUrUGeM"
      },
      "execution_count": 18,
      "outputs": []
    },
    {
      "cell_type": "code",
      "source": [
        "s1"
      ],
      "metadata": {
        "colab": {
          "base_uri": "https://localhost:8080/"
        },
        "id": "-w5z6uhNUSE6",
        "outputId": "2e3dd94b-760b-429b-a888-5ec0d9f36e21"
      },
      "execution_count": 19,
      "outputs": [
        {
          "output_type": "execute_result",
          "data": {
            "text/plain": [
              "Linha0    2\n",
              "Linha1    3\n",
              "Linha2    4\n",
              "Linha3    5\n",
              "Linha4    6\n",
              "dtype: int64"
            ]
          },
          "metadata": {},
          "execution_count": 19
        }
      ]
    },
    {
      "cell_type": "code",
      "source": [
        "s2 = s + s1"
      ],
      "metadata": {
        "id": "gHHoLtnCUSsB"
      },
      "execution_count": 20,
      "outputs": []
    },
    {
      "cell_type": "code",
      "source": [
        "s2"
      ],
      "metadata": {
        "colab": {
          "base_uri": "https://localhost:8080/"
        },
        "id": "0scTi80GUdvT",
        "outputId": "a7ac85aa-3619-453a-f6d6-36b463a09c26"
      },
      "execution_count": 21,
      "outputs": [
        {
          "output_type": "execute_result",
          "data": {
            "text/plain": [
              "Linha0     2\n",
              "Linha1     4\n",
              "Linha2     6\n",
              "Linha3     8\n",
              "Linha4    10\n",
              "dtype: int64"
            ]
          },
          "metadata": {},
          "execution_count": 21
        }
      ]
    },
    {
      "cell_type": "code",
      "source": [],
      "metadata": {
        "id": "lFQ7hAVGUe0K"
      },
      "execution_count": null,
      "outputs": []
    }
  ]
}