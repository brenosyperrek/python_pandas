{
  "nbformat": 4,
  "nbformat_minor": 0,
  "metadata": {
    "colab": {
      "provenance": [],
      "collapsed_sections": [],
      "authorship_tag": "ABX9TyNkSbLUuVRsEL809yCrXRdr",
      "include_colab_link": true
    },
    "kernelspec": {
      "name": "python3",
      "display_name": "Python 3"
    },
    "language_info": {
      "name": "python"
    }
  },
  "cells": [
    {
      "cell_type": "markdown",
      "metadata": {
        "id": "view-in-github",
        "colab_type": "text"
      },
      "source": [
        "<a href=\"https://colab.research.google.com/github/brenosyperrek/python_pandas/blob/main/Identificando_e_Removendo_Outliers.ipynb\" target=\"_parent\"><img src=\"https://colab.research.google.com/assets/colab-badge.svg\" alt=\"Open In Colab\"/></a>"
      ]
    },
    {
      "cell_type": "markdown",
      "source": [
        "# Relatório de Análise 8"
      ],
      "metadata": {
        "id": "VxHQX-urWWGc"
      }
    },
    {
      "cell_type": "markdown",
      "source": [
        "## Identificadno e Removendo Outliers"
      ],
      "metadata": {
        "id": "mYKAVJ13Waej"
      }
    },
    {
      "cell_type": "code",
      "execution_count": 56,
      "metadata": {
        "id": "aS-0mwmYWQi9"
      },
      "outputs": [],
      "source": [
        "%matplotlib inline\n",
        "import pandas as pd\n",
        "import matplotlib.pyplot as plt\n",
        "plt.rc('figure', figsize = (14,6))"
      ]
    },
    {
      "cell_type": "code",
      "source": [
        "dados = pd.read_csv('dados_residencial.csv', sep = ';')\n",
        "dados.head()"
      ],
      "metadata": {
        "colab": {
          "base_uri": "https://localhost:8080/",
          "height": 206
        },
        "id": "DuCYS3ubWxH0",
        "outputId": "75a4a01d-c26e-4abd-c474-67e60786923d"
      },
      "execution_count": 57,
      "outputs": [
        {
          "output_type": "execute_result",
          "data": {
            "text/plain": [
              "          Tipo           Bairro  Quartos  Vagas  Suites  Area   Valor  \\\n",
              "0    Quitinete       Copacabana        1      0       0    40  1700.0   \n",
              "1         Casa  Jardim Botânico        2      0       1   100  7000.0   \n",
              "2  Apartamento           Centro        1      0       0    15   800.0   \n",
              "3  Apartamento     Higienópolis        1      0       0    48   800.0   \n",
              "4  Apartamento         Cachambi        2      0       0    50  1300.0   \n",
              "\n",
              "   Condominio  IPTU  Valor M2 Tipo Agregado  \n",
              "0       500.0  60.0     42.50   Apartamento  \n",
              "1         0.0   0.0     70.00          Casa  \n",
              "2       390.0  20.0     53.33   Apartamento  \n",
              "3       230.0   0.0     16.67   Apartamento  \n",
              "4       301.0  17.0     26.00   Apartamento  "
            ],
            "text/html": [
              "\n",
              "  <div id=\"df-211505e9-b4e3-41d1-9a11-1595d816cf12\">\n",
              "    <div class=\"colab-df-container\">\n",
              "      <div>\n",
              "<style scoped>\n",
              "    .dataframe tbody tr th:only-of-type {\n",
              "        vertical-align: middle;\n",
              "    }\n",
              "\n",
              "    .dataframe tbody tr th {\n",
              "        vertical-align: top;\n",
              "    }\n",
              "\n",
              "    .dataframe thead th {\n",
              "        text-align: right;\n",
              "    }\n",
              "</style>\n",
              "<table border=\"1\" class=\"dataframe\">\n",
              "  <thead>\n",
              "    <tr style=\"text-align: right;\">\n",
              "      <th></th>\n",
              "      <th>Tipo</th>\n",
              "      <th>Bairro</th>\n",
              "      <th>Quartos</th>\n",
              "      <th>Vagas</th>\n",
              "      <th>Suites</th>\n",
              "      <th>Area</th>\n",
              "      <th>Valor</th>\n",
              "      <th>Condominio</th>\n",
              "      <th>IPTU</th>\n",
              "      <th>Valor M2</th>\n",
              "      <th>Tipo Agregado</th>\n",
              "    </tr>\n",
              "  </thead>\n",
              "  <tbody>\n",
              "    <tr>\n",
              "      <th>0</th>\n",
              "      <td>Quitinete</td>\n",
              "      <td>Copacabana</td>\n",
              "      <td>1</td>\n",
              "      <td>0</td>\n",
              "      <td>0</td>\n",
              "      <td>40</td>\n",
              "      <td>1700.0</td>\n",
              "      <td>500.0</td>\n",
              "      <td>60.0</td>\n",
              "      <td>42.50</td>\n",
              "      <td>Apartamento</td>\n",
              "    </tr>\n",
              "    <tr>\n",
              "      <th>1</th>\n",
              "      <td>Casa</td>\n",
              "      <td>Jardim Botânico</td>\n",
              "      <td>2</td>\n",
              "      <td>0</td>\n",
              "      <td>1</td>\n",
              "      <td>100</td>\n",
              "      <td>7000.0</td>\n",
              "      <td>0.0</td>\n",
              "      <td>0.0</td>\n",
              "      <td>70.00</td>\n",
              "      <td>Casa</td>\n",
              "    </tr>\n",
              "    <tr>\n",
              "      <th>2</th>\n",
              "      <td>Apartamento</td>\n",
              "      <td>Centro</td>\n",
              "      <td>1</td>\n",
              "      <td>0</td>\n",
              "      <td>0</td>\n",
              "      <td>15</td>\n",
              "      <td>800.0</td>\n",
              "      <td>390.0</td>\n",
              "      <td>20.0</td>\n",
              "      <td>53.33</td>\n",
              "      <td>Apartamento</td>\n",
              "    </tr>\n",
              "    <tr>\n",
              "      <th>3</th>\n",
              "      <td>Apartamento</td>\n",
              "      <td>Higienópolis</td>\n",
              "      <td>1</td>\n",
              "      <td>0</td>\n",
              "      <td>0</td>\n",
              "      <td>48</td>\n",
              "      <td>800.0</td>\n",
              "      <td>230.0</td>\n",
              "      <td>0.0</td>\n",
              "      <td>16.67</td>\n",
              "      <td>Apartamento</td>\n",
              "    </tr>\n",
              "    <tr>\n",
              "      <th>4</th>\n",
              "      <td>Apartamento</td>\n",
              "      <td>Cachambi</td>\n",
              "      <td>2</td>\n",
              "      <td>0</td>\n",
              "      <td>0</td>\n",
              "      <td>50</td>\n",
              "      <td>1300.0</td>\n",
              "      <td>301.0</td>\n",
              "      <td>17.0</td>\n",
              "      <td>26.00</td>\n",
              "      <td>Apartamento</td>\n",
              "    </tr>\n",
              "  </tbody>\n",
              "</table>\n",
              "</div>\n",
              "      <button class=\"colab-df-convert\" onclick=\"convertToInteractive('df-211505e9-b4e3-41d1-9a11-1595d816cf12')\"\n",
              "              title=\"Convert this dataframe to an interactive table.\"\n",
              "              style=\"display:none;\">\n",
              "        \n",
              "  <svg xmlns=\"http://www.w3.org/2000/svg\" height=\"24px\"viewBox=\"0 0 24 24\"\n",
              "       width=\"24px\">\n",
              "    <path d=\"M0 0h24v24H0V0z\" fill=\"none\"/>\n",
              "    <path d=\"M18.56 5.44l.94 2.06.94-2.06 2.06-.94-2.06-.94-.94-2.06-.94 2.06-2.06.94zm-11 1L8.5 8.5l.94-2.06 2.06-.94-2.06-.94L8.5 2.5l-.94 2.06-2.06.94zm10 10l.94 2.06.94-2.06 2.06-.94-2.06-.94-.94-2.06-.94 2.06-2.06.94z\"/><path d=\"M17.41 7.96l-1.37-1.37c-.4-.4-.92-.59-1.43-.59-.52 0-1.04.2-1.43.59L10.3 9.45l-7.72 7.72c-.78.78-.78 2.05 0 2.83L4 21.41c.39.39.9.59 1.41.59.51 0 1.02-.2 1.41-.59l7.78-7.78 2.81-2.81c.8-.78.8-2.07 0-2.86zM5.41 20L4 18.59l7.72-7.72 1.47 1.35L5.41 20z\"/>\n",
              "  </svg>\n",
              "      </button>\n",
              "      \n",
              "  <style>\n",
              "    .colab-df-container {\n",
              "      display:flex;\n",
              "      flex-wrap:wrap;\n",
              "      gap: 12px;\n",
              "    }\n",
              "\n",
              "    .colab-df-convert {\n",
              "      background-color: #E8F0FE;\n",
              "      border: none;\n",
              "      border-radius: 50%;\n",
              "      cursor: pointer;\n",
              "      display: none;\n",
              "      fill: #1967D2;\n",
              "      height: 32px;\n",
              "      padding: 0 0 0 0;\n",
              "      width: 32px;\n",
              "    }\n",
              "\n",
              "    .colab-df-convert:hover {\n",
              "      background-color: #E2EBFA;\n",
              "      box-shadow: 0px 1px 2px rgba(60, 64, 67, 0.3), 0px 1px 3px 1px rgba(60, 64, 67, 0.15);\n",
              "      fill: #174EA6;\n",
              "    }\n",
              "\n",
              "    [theme=dark] .colab-df-convert {\n",
              "      background-color: #3B4455;\n",
              "      fill: #D2E3FC;\n",
              "    }\n",
              "\n",
              "    [theme=dark] .colab-df-convert:hover {\n",
              "      background-color: #434B5C;\n",
              "      box-shadow: 0px 1px 3px 1px rgba(0, 0, 0, 0.15);\n",
              "      filter: drop-shadow(0px 1px 2px rgba(0, 0, 0, 0.3));\n",
              "      fill: #FFFFFF;\n",
              "    }\n",
              "  </style>\n",
              "\n",
              "      <script>\n",
              "        const buttonEl =\n",
              "          document.querySelector('#df-211505e9-b4e3-41d1-9a11-1595d816cf12 button.colab-df-convert');\n",
              "        buttonEl.style.display =\n",
              "          google.colab.kernel.accessAllowed ? 'block' : 'none';\n",
              "\n",
              "        async function convertToInteractive(key) {\n",
              "          const element = document.querySelector('#df-211505e9-b4e3-41d1-9a11-1595d816cf12');\n",
              "          const dataTable =\n",
              "            await google.colab.kernel.invokeFunction('convertToInteractive',\n",
              "                                                     [key], {});\n",
              "          if (!dataTable) return;\n",
              "\n",
              "          const docLinkHtml = 'Like what you see? Visit the ' +\n",
              "            '<a target=\"_blank\" href=https://colab.research.google.com/notebooks/data_table.ipynb>data table notebook</a>'\n",
              "            + ' to learn more about interactive tables.';\n",
              "          element.innerHTML = '';\n",
              "          dataTable['output_type'] = 'display_data';\n",
              "          await google.colab.output.renderOutput(dataTable, element);\n",
              "          const docLink = document.createElement('div');\n",
              "          docLink.innerHTML = docLinkHtml;\n",
              "          element.appendChild(docLink);\n",
              "        }\n",
              "      </script>\n",
              "    </div>\n",
              "  </div>\n",
              "  "
            ]
          },
          "metadata": {},
          "execution_count": 57
        }
      ]
    },
    {
      "cell_type": "markdown",
      "source": [
        "![image.png](data:image/png;base64,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)"
      ],
      "metadata": {
        "id": "R5ujpjuOXaSf"
      }
    },
    {
      "cell_type": "code",
      "source": [
        "dados.boxplot('Valor')"
      ],
      "metadata": {
        "colab": {
          "base_uri": "https://localhost:8080/",
          "height": 402
        },
        "id": "bscUpwTCW9rD",
        "outputId": "c1d333ea-b631-4981-99f8-e100433ed87a"
      },
      "execution_count": 58,
      "outputs": [
        {
          "output_type": "execute_result",
          "data": {
            "text/plain": [
              "<matplotlib.axes._subplots.AxesSubplot at 0x7fa02b524850>"
            ]
          },
          "metadata": {},
          "execution_count": 58
        },
        {
          "output_type": "display_data",
          "data": {
            "text/plain": [
              "<Figure size 1008x432 with 1 Axes>"
            ],
            "image/png": "[encoded data removed]"
          },
          "metadata": {
            "needs_background": "light"
          }
        }
      ]
    },
    {
      "cell_type": "code",
      "source": [
        "dados[dados['Valor'] >= 500000]"
      ],
      "metadata": {
        "colab": {
          "base_uri": "https://localhost:8080/",
          "height": 206
        },
        "id": "rWRFo6xOX40U",
        "outputId": "30ba6cc4-4bff-42f6-e7ca-7a98da410cf5"
      },
      "execution_count": 59,
      "outputs": [
        {
          "output_type": "execute_result",
          "data": {
            "text/plain": [
              "                     Tipo                    Bairro  Quartos  Vagas  Suites  \\\n",
              "7629          Apartamento           Barra da Tijuca        1      1       0   \n",
              "10636  Casa de Condomínio   Freguesia (Jacarepaguá)        4      2       3   \n",
              "12661         Apartamento   Freguesia (Jacarepaguá)        2      2       1   \n",
              "13846         Apartamento  Recreio dos Bandeirantes        3      2       1   \n",
              "15520         Apartamento                  Botafogo        4      1       1   \n",
              "\n",
              "       Area      Valor  Condominio   IPTU  Valor M2 Tipo Agregado  \n",
              "7629     65   600000.0       980.0  120.0   9230.77   Apartamento  \n",
              "10636   163   800000.0       900.0    0.0   4907.98          Casa  \n",
              "12661   150   550000.0       850.0  150.0   3666.67   Apartamento  \n",
              "13846   167  1250000.0      1186.0  320.0   7485.03   Apartamento  \n",
              "15520   300  4500000.0      1100.0    0.0  15000.00   Apartamento  "
            ],
            "text/html": [
              "\n",
              "  <div id=\"df-1850b1e0-c5d1-448a-8527-2a8fbffaefa2\">\n",
              "    <div class=\"colab-df-container\">\n",
              "      <div>\n",
              "<style scoped>\n",
              "    .dataframe tbody tr th:only-of-type {\n",
              "        vertical-align: middle;\n",
              "    }\n",
              "\n",
              "    .dataframe tbody tr th {\n",
              "        vertical-align: top;\n",
              "    }\n",
              "\n",
              "    .dataframe thead th {\n",
              "        text-align: right;\n",
              "    }\n",
              "</style>\n",
              "<table border=\"1\" class=\"dataframe\">\n",
              "  <thead>\n",
              "    <tr style=\"text-align: right;\">\n",
              "      <th></th>\n",
              "      <th>Tipo</th>\n",
              "      <th>Bairro</th>\n",
              "      <th>Quartos</th>\n",
              "      <th>Vagas</th>\n",
              "      <th>Suites</th>\n",
              "      <th>Area</th>\n",
              "      <th>Valor</th>\n",
              "      <th>Condominio</th>\n",
              "      <th>IPTU</th>\n",
              "      <th>Valor M2</th>\n",
              "      <th>Tipo Agregado</th>\n",
              "    </tr>\n",
              "  </thead>\n",
              "  <tbody>\n",
              "    <tr>\n",
              "      <th>7629</th>\n",
              "      <td>Apartamento</td>\n",
              "      <td>Barra da Tijuca</td>\n",
              "      <td>1</td>\n",
              "      <td>1</td>\n",
              "      <td>0</td>\n",
              "      <td>65</td>\n",
              "      <td>600000.0</td>\n",
              "      <td>980.0</td>\n",
              "      <td>120.0</td>\n",
              "      <td>9230.77</td>\n",
              "      <td>Apartamento</td>\n",
              "    </tr>\n",
              "    <tr>\n",
              "      <th>10636</th>\n",
              "      <td>Casa de Condomínio</td>\n",
              "      <td>Freguesia (Jacarepaguá)</td>\n",
              "      <td>4</td>\n",
              "      <td>2</td>\n",
              "      <td>3</td>\n",
              "      <td>163</td>\n",
              "      <td>800000.0</td>\n",
              "      <td>900.0</td>\n",
              "      <td>0.0</td>\n",
              "      <td>4907.98</td>\n",
              "      <td>Casa</td>\n",
              "    </tr>\n",
              "    <tr>\n",
              "      <th>12661</th>\n",
              "      <td>Apartamento</td>\n",
              "      <td>Freguesia (Jacarepaguá)</td>\n",
              "      <td>2</td>\n",
              "      <td>2</td>\n",
              "      <td>1</td>\n",
              "      <td>150</td>\n",
              "      <td>550000.0</td>\n",
              "      <td>850.0</td>\n",
              "      <td>150.0</td>\n",
              "      <td>3666.67</td>\n",
              "      <td>Apartamento</td>\n",
              "    </tr>\n",
              "    <tr>\n",
              "      <th>13846</th>\n",
              "      <td>Apartamento</td>\n",
              "      <td>Recreio dos Bandeirantes</td>\n",
              "      <td>3</td>\n",
              "      <td>2</td>\n",
              "      <td>1</td>\n",
              "      <td>167</td>\n",
              "      <td>1250000.0</td>\n",
              "      <td>1186.0</td>\n",
              "      <td>320.0</td>\n",
              "      <td>7485.03</td>\n",
              "      <td>Apartamento</td>\n",
              "    </tr>\n",
              "    <tr>\n",
              "      <th>15520</th>\n",
              "      <td>Apartamento</td>\n",
              "      <td>Botafogo</td>\n",
              "      <td>4</td>\n",
              "      <td>1</td>\n",
              "      <td>1</td>\n",
              "      <td>300</td>\n",
              "      <td>4500000.0</td>\n",
              "      <td>1100.0</td>\n",
              "      <td>0.0</td>\n",
              "      <td>15000.00</td>\n",
              "      <td>Apartamento</td>\n",
              "    </tr>\n",
              "  </tbody>\n",
              "</table>\n",
              "</div>\n",
              "      <button class=\"colab-df-convert\" onclick=\"convertToInteractive('df-1850b1e0-c5d1-448a-8527-2a8fbffaefa2')\"\n",
              "              title=\"Convert this dataframe to an interactive table.\"\n",
              "              style=\"display:none;\">\n",
              "        \n",
              "  <svg xmlns=\"http://www.w3.org/2000/svg\" height=\"24px\"viewBox=\"0 0 24 24\"\n",
              "       width=\"24px\">\n",
              "    <path d=\"M0 0h24v24H0V0z\" fill=\"none\"/>\n",
              "    <path d=\"M18.56 5.44l.94 2.06.94-2.06 2.06-.94-2.06-.94-.94-2.06-.94 2.06-2.06.94zm-11 1L8.5 8.5l.94-2.06 2.06-.94-2.06-.94L8.5 2.5l-.94 2.06-2.06.94zm10 10l.94 2.06.94-2.06 2.06-.94-2.06-.94-.94-2.06-.94 2.06-2.06.94z\"/><path d=\"M17.41 7.96l-1.37-1.37c-.4-.4-.92-.59-1.43-.59-.52 0-1.04.2-1.43.59L10.3 9.45l-7.72 7.72c-.78.78-.78 2.05 0 2.83L4 21.41c.39.39.9.59 1.41.59.51 0 1.02-.2 1.41-.59l7.78-7.78 2.81-2.81c.8-.78.8-2.07 0-2.86zM5.41 20L4 18.59l7.72-7.72 1.47 1.35L5.41 20z\"/>\n",
              "  </svg>\n",
              "      </button>\n",
              "      \n",
              "  <style>\n",
              "    .colab-df-container {\n",
              "      display:flex;\n",
              "      flex-wrap:wrap;\n",
              "      gap: 12px;\n",
              "    }\n",
              "\n",
              "    .colab-df-convert {\n",
              "      background-color: #E8F0FE;\n",
              "      border: none;\n",
              "      border-radius: 50%;\n",
              "      cursor: pointer;\n",
              "      display: none;\n",
              "      fill: #1967D2;\n",
              "      height: 32px;\n",
              "      padding: 0 0 0 0;\n",
              "      width: 32px;\n",
              "    }\n",
              "\n",
              "    .colab-df-convert:hover {\n",
              "      background-color: #E2EBFA;\n",
              "      box-shadow: 0px 1px 2px rgba(60, 64, 67, 0.3), 0px 1px 3px 1px rgba(60, 64, 67, 0.15);\n",
              "      fill: #174EA6;\n",
              "    }\n",
              "\n",
              "    [theme=dark] .colab-df-convert {\n",
              "      background-color: #3B4455;\n",
              "      fill: #D2E3FC;\n",
              "    }\n",
              "\n",
              "    [theme=dark] .colab-df-convert:hover {\n",
              "      background-color: #434B5C;\n",
              "      box-shadow: 0px 1px 3px 1px rgba(0, 0, 0, 0.15);\n",
              "      filter: drop-shadow(0px 1px 2px rgba(0, 0, 0, 0.3));\n",
              "      fill: #FFFFFF;\n",
              "    }\n",
              "  </style>\n",
              "\n",
              "      <script>\n",
              "        const buttonEl =\n",
              "          document.querySelector('#df-1850b1e0-c5d1-448a-8527-2a8fbffaefa2 button.colab-df-convert');\n",
              "        buttonEl.style.display =\n",
              "          google.colab.kernel.accessAllowed ? 'block' : 'none';\n",
              "\n",
              "        async function convertToInteractive(key) {\n",
              "          const element = document.querySelector('#df-1850b1e0-c5d1-448a-8527-2a8fbffaefa2');\n",
              "          const dataTable =\n",
              "            await google.colab.kernel.invokeFunction('convertToInteractive',\n",
              "                                                     [key], {});\n",
              "          if (!dataTable) return;\n",
              "\n",
              "          const docLinkHtml = 'Like what you see? Visit the ' +\n",
              "            '<a target=\"_blank\" href=https://colab.research.google.com/notebooks/data_table.ipynb>data table notebook</a>'\n",
              "            + ' to learn more about interactive tables.';\n",
              "          element.innerHTML = '';\n",
              "          dataTable['output_type'] = 'display_data';\n",
              "          await google.colab.output.renderOutput(dataTable, element);\n",
              "          const docLink = document.createElement('div');\n",
              "          docLink.innerHTML = docLinkHtml;\n",
              "          element.appendChild(docLink);\n",
              "        }\n",
              "      </script>\n",
              "    </div>\n",
              "  </div>\n",
              "  "
            ]
          },
          "metadata": {},
          "execution_count": 59
        }
      ]
    },
    {
      "cell_type": "code",
      "source": [
        "valor = dados['Valor']\n",
        "type(valor)"
      ],
      "metadata": {
        "colab": {
          "base_uri": "https://localhost:8080/"
        },
        "id": "b8RZP92cYFwr",
        "outputId": "8afc7054-c35e-472c-c732-7aec703edac8"
      },
      "execution_count": 60,
      "outputs": [
        {
          "output_type": "execute_result",
          "data": {
            "text/plain": [
              "pandas.core.series.Series"
            ]
          },
          "metadata": {},
          "execution_count": 60
        }
      ]
    },
    {
      "cell_type": "code",
      "source": [
        "Q1 = valor.quantile(.25)\n",
        "Q3 = valor.quantile(.75)\n",
        "IIQ = Q3 - Q1\n",
        "limite_inferior = Q1 - 1.5 * IIQ\n",
        "limite_superior = Q3 + 1.5 * IIQ"
      ],
      "metadata": {
        "id": "RnM5t6SNZGxF"
      },
      "execution_count": 61,
      "outputs": []
    },
    {
      "cell_type": "code",
      "source": [
        "selecao = (valor >= limite_inferior) & (valor <= limite_superior)\n",
        "dados_new = dados[selecao]"
      ],
      "metadata": {
        "id": "vVq_S7J3ZTdr"
      },
      "execution_count": 62,
      "outputs": []
    },
    {
      "cell_type": "code",
      "source": [
        "dados_new.boxplot(['Valor'])"
      ],
      "metadata": {
        "colab": {
          "base_uri": "https://localhost:8080/",
          "height": 391
        },
        "id": "7Olyi_gsZypj",
        "outputId": "363ddae6-7db8-4fe5-8c32-650fbcd93cef"
      },
      "execution_count": 63,
      "outputs": [
        {
          "output_type": "execute_result",
          "data": {
            "text/plain": [
              "<matplotlib.axes._subplots.AxesSubplot at 0x7fa02b339050>"
            ]
          },
          "metadata": {},
          "execution_count": 63
        },
        {
          "output_type": "display_data",
          "data": {
            "text/plain": [
              "<Figure size 1008x432 with 1 Axes>"
            ],
            "image/png": "[encoded data removed]"
          },
          "metadata": {
            "needs_background": "light"
          }
        }
      ]
    },
    {
      "cell_type": "code",
      "source": [
        "dados.hist(['Valor'])\n",
        "dados_new.hist(['Valor'])"
      ],
      "metadata": {
        "colab": {
          "base_uri": "https://localhost:8080/",
          "height": 811
        },
        "id": "BUQJfLBZZ_-L",
        "outputId": "50b67e3d-8170-4161-a59b-76b5a99088fd"
      },
      "execution_count": 64,
      "outputs": [
        {
          "output_type": "execute_result",
          "data": {
            "text/plain": [
              "array([[<matplotlib.axes._subplots.AxesSubplot object at 0x7fa02b216150>]],\n",
              "      dtype=object)"
            ]
          },
          "metadata": {},
          "execution_count": 64
        },
        {
          "output_type": "display_data",
          "data": {
            "text/plain": [
              "<Figure size 1008x432 with 1 Axes>"
            ],
            "image/png": "[encoded data removed]"
          },
          "metadata": {
            "needs_background": "light"
          }
        },
        {
          "output_type": "display_data",
          "data": {
            "text/plain": [
              "<Figure size 1008x432 with 1 Axes>"
            ],
            "image/png": "[encoded data removed]"
          },
          "metadata": {
            "needs_background": "light"
          }
        }
      ]
    },
    {
      "cell_type": "code",
      "source": [
        "dados.boxplot(['Valor'], by = 'Tipo')"
      ],
      "metadata": {
        "colab": {
          "base_uri": "https://localhost:8080/",
          "height": 492
        },
        "id": "YHsFoTFBacSC",
        "outputId": "a5bdf9f5-a5c5-4387-c71d-49b8be8b52a8"
      },
      "execution_count": 65,
      "outputs": [
        {
          "output_type": "stream",
          "name": "stderr",
          "text": [
            "/usr/local/lib/python3.7/dist-packages/matplotlib/cbook/__init__.py:1376: VisibleDeprecationWarning: Creating an ndarray from ragged nested sequences (which is a list-or-tuple of lists-or-tuples-or ndarrays with different lengths or shapes) is deprecated. If you meant to do this, you must specify 'dtype=object' when creating the ndarray.\n",
            "  X = np.atleast_1d(X.T if isinstance(X, np.ndarray) else np.asarray(X))\n"
          ]
        },
        {
          "output_type": "execute_result",
          "data": {
            "text/plain": [
              "<matplotlib.axes._subplots.AxesSubplot at 0x7fa02b332e90>"
            ]
          },
          "metadata": {},
          "execution_count": 65
        },
        {
          "output_type": "display_data",
          "data": {
            "text/plain": [
              "<Figure size 1008x432 with 1 Axes>"
            ],
            "image/png": "[encoded data removed]"
          },
          "metadata": {
            "needs_background": "light"
          }
        }
      ]
    },
    {
      "cell_type": "code",
      "source": [
        "grupo_tipo = dados.groupby('Tipo')['Valor']\n",
        "type(grupo_tipo)"
      ],
      "metadata": {
        "colab": {
          "base_uri": "https://localhost:8080/"
        },
        "id": "jbiSKfUOg8Tt",
        "outputId": "de5fbc4e-67f5-4ddc-b92c-6e039bb0a33d"
      },
      "execution_count": 66,
      "outputs": [
        {
          "output_type": "execute_result",
          "data": {
            "text/plain": [
              "pandas.core.groupby.generic.SeriesGroupBy"
            ]
          },
          "metadata": {},
          "execution_count": 66
        }
      ]
    },
    {
      "cell_type": "code",
      "source": [
        "grupo_tipo.groups"
      ],
      "metadata": {
        "colab": {
          "base_uri": "https://localhost:8080/"
        },
        "id": "HrUW70FEhQom",
        "outputId": "1e5cd140-96a3-49ec-cc93-6988537ed3be"
      },
      "execution_count": 67,
      "outputs": [
        {
          "output_type": "execute_result",
          "data": {
            "text/plain": [
              "{'Apartamento': [2, 3, 4, 7, 8, 9, 11, 13, 14, 15, 17, 18, 19, 20, 21, 23, 24, 25, 26, 27, 29, 30, 31, 32, 33, 34, 35, 36, 37, 38, 39, 40, 41, 43, 44, 45, 46, 47, 48, 49, 50, 51, 52, 53, 55, 56, 59, 60, 61, 62, 63, 64, 65, 66, 67, 68, 69, 70, 72, 73, 74, 75, 76, 77, 79, 80, 82, 83, 84, 85, 87, 88, 89, 90, 91, 92, 93, 94, 95, 97, 98, 99, 102, 103, 104, 105, 106, 107, 108, 109, 110, 111, 112, 113, 114, 115, 116, 117, 118, 119, ...], 'Casa': [1, 22, 54, 57, 96, 100, 144, 160, 180, 238, 250, 253, 264, 286, 310, 316, 334, 339, 357, 378, 385, 399, 424, 434, 474, 475, 481, 511, 542, 543, 567, 571, 572, 618, 621, 630, 635, 636, 660, 676, 700, 721, 724, 760, 771, 780, 856, 873, 937, 982, 1029, 1036, 1118, 1123, 1125, 1157, 1178, 1249, 1256, 1316, 1335, 1350, 1371, 1412, 1426, 1430, 1440, 1445, 1472, 1475, 1488, 1586, 1604, 1656, 1662, 1666, 1671, 1684, 1709, 1717, 1762, 1810, 1835, 1875, 1905, 1933, 1942, 1960, 2019, 2039, 2056, 2075, 2101, 2107, 2108, 2133, 2170, 2201, 2204, 2211, ...], 'Casa de Condomínio': [5, 6, 12, 16, 42, 58, 166, 168, 183, 207, 222, 246, 259, 265, 279, 291, 308, 336, 391, 401, 440, 445, 449, 502, 556, 609, 622, 657, 663, 673, 707, 723, 781, 807, 809, 863, 883, 887, 934, 958, 961, 979, 986, 992, 1004, 1008, 1028, 1082, 1095, 1112, 1129, 1148, 1158, 1182, 1220, 1227, 1229, 1239, 1246, 1308, 1312, 1320, 1341, 1356, 1406, 1438, 1439, 1467, 1495, 1531, 1560, 1582, 1601, 1615, 1646, 1713, 1722, 1728, 1756, 1764, 1770, 1802, 1860, 1880, 1883, 1899, 1938, 2031, 2033, 2071, 2152, 2168, 2200, 2224, 2246, 2248, 2327, 2333, 2357, 2371, ...], 'Casa de Vila': [81, 212, 220, 303, 332, 697, 822, 844, 918, 1012, 1353, 1362, 1447, 1491, 1553, 1639, 1669, 1703, 1769, 2087, 2249, 2267, 2446, 2533, 2547, 2605, 2641, 2727, 2840, 2872, 2977, 2984, 3017, 3025, 3300, 3426, 3523, 3703, 3823, 3855, 3858, 3863, 4094, 4146, 4153, 4165, 4340, 4444, 4826, 5151, 5170, 5175, 5198, 5294, 5410, 5535, 5597, 5724, 5751, 5911, 5950, 5995, 6008, 6031, 6049, 6201, 6236, 6300, 6348, 6402, 6429, 6754, 6795, 6939, 6957, 7033, 7091, 7146, 7296, 7697, 7712, 7778, 7837, 7843, 7968, 8004, 8136, 8427, 8452, 8578, 9229, 9234, 9319, 9476, 9619, 9624, 9716, 9739, 9784, 9867, ...], 'Quitinete': [0, 10, 28, 71, 78, 86, 101, 120, 146, 174, 191, 206, 223, 248, 301, 314, 327, 344, 355, 425, 426, 427, 460, 486, 532, 633, 650, 680, 808, 870, 917, 919, 924, 928, 939, 944, 970, 1001, 1016, 1044, 1070, 1156, 1170, 1172, 1184, 1192, 1196, 1212, 1217, 1261, 1274, 1334, 1351, 1360, 1393, 1404, 1407, 1483, 1496, 1510, 1543, 1595, 1611, 1613, 1633, 1696, 1697, 1706, 1733, 1753, 1772, 1824, 1839, 1853, 1910, 2013, 2085, 2098, 2125, 2142, 2149, 2156, 2160, 2227, 2237, 2239, 2258, 2272, 2326, 2362, 2382, 2383, 2384, 2394, 2445, 2457, 2462, 2493, 2507, 2630, ...]}"
            ]
          },
          "metadata": {},
          "execution_count": 67
        }
      ]
    },
    {
      "cell_type": "code",
      "source": [
        "Q1 = grupo_tipo.quantile(.25)\n",
        "Q3 = grupo_tipo.quantile(.75)\n",
        "IIQ = Q3 - Q1\n",
        "limite_inferior = Q1 - 1.5 * IIQ\n",
        "limite_superior = Q3 + 1.5 * IIQ\n",
        "type(Q1)"
      ],
      "metadata": {
        "colab": {
          "base_uri": "https://localhost:8080/"
        },
        "id": "Zq0kTGxGhf-l",
        "outputId": "0adfc26e-e0fd-46dc-9804-9e38789a698e"
      },
      "execution_count": 68,
      "outputs": [
        {
          "output_type": "execute_result",
          "data": {
            "text/plain": [
              "pandas.core.series.Series"
            ]
          },
          "metadata": {},
          "execution_count": 68
        }
      ]
    },
    {
      "cell_type": "code",
      "source": [
        "Q1"
      ],
      "metadata": {
        "colab": {
          "base_uri": "https://localhost:8080/"
        },
        "id": "SZfnrq7BiAzk",
        "outputId": "3968bf51-409d-4306-db34-18d673f5ff10"
      },
      "execution_count": 69,
      "outputs": [
        {
          "output_type": "execute_result",
          "data": {
            "text/plain": [
              "Tipo\n",
              "Apartamento           1700.0\n",
              "Casa                  1100.0\n",
              "Casa de Condomínio    4000.0\n",
              "Casa de Vila           750.0\n",
              "Quitinete              900.0\n",
              "Name: Valor, dtype: float64"
            ]
          },
          "metadata": {},
          "execution_count": 69
        }
      ]
    },
    {
      "cell_type": "code",
      "source": [
        "Q3"
      ],
      "metadata": {
        "colab": {
          "base_uri": "https://localhost:8080/"
        },
        "id": "QYwzZxhsiEG8",
        "outputId": "79374283-80a5-4202-89c3-a02b64e89a60"
      },
      "execution_count": 70,
      "outputs": [
        {
          "output_type": "execute_result",
          "data": {
            "text/plain": [
              "Tipo\n",
              "Apartamento            5000.0\n",
              "Casa                   9800.0\n",
              "Casa de Condomínio    15250.0\n",
              "Casa de Vila           1800.0\n",
              "Quitinete              1500.0\n",
              "Name: Valor, dtype: float64"
            ]
          },
          "metadata": {},
          "execution_count": 70
        }
      ]
    },
    {
      "cell_type": "code",
      "source": [
        "IIQ"
      ],
      "metadata": {
        "colab": {
          "base_uri": "https://localhost:8080/"
        },
        "id": "-1PxmdA0iShl",
        "outputId": "66f0f278-4fb1-4aad-93af-c4c116a8627e"
      },
      "execution_count": 71,
      "outputs": [
        {
          "output_type": "execute_result",
          "data": {
            "text/plain": [
              "Tipo\n",
              "Apartamento            3300.0\n",
              "Casa                   8700.0\n",
              "Casa de Condomínio    11250.0\n",
              "Casa de Vila           1050.0\n",
              "Quitinete               600.0\n",
              "Name: Valor, dtype: float64"
            ]
          },
          "metadata": {},
          "execution_count": 71
        }
      ]
    },
    {
      "cell_type": "code",
      "source": [
        "limite_inferior"
      ],
      "metadata": {
        "colab": {
          "base_uri": "https://localhost:8080/"
        },
        "id": "wluUQOWDiUlV",
        "outputId": "77ef66be-8d45-4685-894a-9b7a6eeedbbc"
      },
      "execution_count": 72,
      "outputs": [
        {
          "output_type": "execute_result",
          "data": {
            "text/plain": [
              "Tipo\n",
              "Apartamento           -3250.0\n",
              "Casa                 -11950.0\n",
              "Casa de Condomínio   -12875.0\n",
              "Casa de Vila           -825.0\n",
              "Quitinete                 0.0\n",
              "Name: Valor, dtype: float64"
            ]
          },
          "metadata": {},
          "execution_count": 72
        }
      ]
    },
    {
      "cell_type": "code",
      "source": [
        "limite_superior"
      ],
      "metadata": {
        "colab": {
          "base_uri": "https://localhost:8080/"
        },
        "id": "fbY-sYH_iWtl",
        "outputId": "0846f882-4347-4bfe-c482-e452fd0ced9a"
      },
      "execution_count": 73,
      "outputs": [
        {
          "output_type": "execute_result",
          "data": {
            "text/plain": [
              "Tipo\n",
              "Apartamento            9950.0\n",
              "Casa                  22850.0\n",
              "Casa de Condomínio    32125.0\n",
              "Casa de Vila           3375.0\n",
              "Quitinete              2400.0\n",
              "Name: Valor, dtype: float64"
            ]
          },
          "metadata": {},
          "execution_count": 73
        }
      ]
    },
    {
      "cell_type": "code",
      "source": [
        "dados_new = pd.DataFrame()\n",
        "for tipo in grupo_tipo.groups.keys():\n",
        "    eh_tipo = dados['Tipo'] == tipo\n",
        "    eh_dentro_limite = (dados['Valor'] >= limite_inferior[tipo]) & (dados['Valor'] <= limite_superior[tipo])\n",
        "    selecao = eh_tipo & eh_dentro_limite\n",
        "    dados_selecao = dados[selecao]\n",
        "    dados_new = pd.concat([dados_new, dados_selecao])"
      ],
      "metadata": {
        "id": "9k0qA0RTiiM1"
      },
      "execution_count": 74,
      "outputs": []
    },
    {
      "cell_type": "code",
      "source": [
        "dados_new"
      ],
      "metadata": {
        "colab": {
          "base_uri": "https://localhost:8080/",
          "height": 424
        },
        "id": "NDw6bQrsk7kl",
        "outputId": "504012e7-0710-4982-b896-7ce5365e123c"
      },
      "execution_count": 75,
      "outputs": [
        {
          "output_type": "execute_result",
          "data": {
            "text/plain": [
              "              Tipo               Bairro  Quartos  Vagas  Suites  Area   Valor  \\\n",
              "2      Apartamento               Centro        1      0       0    15   800.0   \n",
              "3      Apartamento         Higienópolis        1      0       0    48   800.0   \n",
              "4      Apartamento             Cachambi        2      0       0    50  1300.0   \n",
              "7      Apartamento               Grajaú        2      1       0    70  1500.0   \n",
              "8      Apartamento  Lins de Vasconcelos        3      1       1    90  1500.0   \n",
              "...            ...                  ...      ...    ...     ...   ...     ...   \n",
              "21687    Quitinete               Glória        1      0       0    10   400.0   \n",
              "21728    Quitinete             Flamengo        1      0       0    23   900.0   \n",
              "21748    Quitinete               Centro        1      0       0    24  1100.0   \n",
              "21815    Quitinete           Copacabana        1      0       0    22  1500.0   \n",
              "21822    Quitinete               Centro        0      0       0    27   800.0   \n",
              "\n",
              "       Condominio   IPTU  Valor M2 Tipo Agregado  \n",
              "2           390.0   20.0     53.33   Apartamento  \n",
              "3           230.0    0.0     16.67   Apartamento  \n",
              "4           301.0   17.0     26.00   Apartamento  \n",
              "7           642.0   74.0     21.43   Apartamento  \n",
              "8           455.0   14.0     16.67   Apartamento  \n",
              "...           ...    ...       ...           ...  \n",
              "21687       107.0   10.0     40.00   Apartamento  \n",
              "21728       605.0    0.0     39.13   Apartamento  \n",
              "21748       323.0    0.0     45.83   Apartamento  \n",
              "21815       286.0  200.0     68.18   Apartamento  \n",
              "21822       350.0   25.0     29.63   Apartamento  \n",
              "\n",
              "[19831 rows x 11 columns]"
            ],
            "text/html": [
              "\n",
              "  <div id=\"df-8bfce446-22a6-4348-97a1-7271b85c8de8\">\n",
              "    <div class=\"colab-df-container\">\n",
              "      <div>\n",
              "<style scoped>\n",
              "    .dataframe tbody tr th:only-of-type {\n",
              "        vertical-align: middle;\n",
              "    }\n",
              "\n",
              "    .dataframe tbody tr th {\n",
              "        vertical-align: top;\n",
              "    }\n",
              "\n",
              "    .dataframe thead th {\n",
              "        text-align: right;\n",
              "    }\n",
              "</style>\n",
              "<table border=\"1\" class=\"dataframe\">\n",
              "  <thead>\n",
              "    <tr style=\"text-align: right;\">\n",
              "      <th></th>\n",
              "      <th>Tipo</th>\n",
              "      <th>Bairro</th>\n",
              "      <th>Quartos</th>\n",
              "      <th>Vagas</th>\n",
              "      <th>Suites</th>\n",
              "      <th>Area</th>\n",
              "      <th>Valor</th>\n",
              "      <th>Condominio</th>\n",
              "      <th>IPTU</th>\n",
              "      <th>Valor M2</th>\n",
              "      <th>Tipo Agregado</th>\n",
              "    </tr>\n",
              "  </thead>\n",
              "  <tbody>\n",
              "    <tr>\n",
              "      <th>2</th>\n",
              "      <td>Apartamento</td>\n",
              "      <td>Centro</td>\n",
              "      <td>1</td>\n",
              "      <td>0</td>\n",
              "      <td>0</td>\n",
              "      <td>15</td>\n",
              "      <td>800.0</td>\n",
              "      <td>390.0</td>\n",
              "      <td>20.0</td>\n",
              "      <td>53.33</td>\n",
              "      <td>Apartamento</td>\n",
              "    </tr>\n",
              "    <tr>\n",
              "      <th>3</th>\n",
              "      <td>Apartamento</td>\n",
              "      <td>Higienópolis</td>\n",
              "      <td>1</td>\n",
              "      <td>0</td>\n",
              "      <td>0</td>\n",
              "      <td>48</td>\n",
              "      <td>800.0</td>\n",
              "      <td>230.0</td>\n",
              "      <td>0.0</td>\n",
              "      <td>16.67</td>\n",
              "      <td>Apartamento</td>\n",
              "    </tr>\n",
              "    <tr>\n",
              "      <th>4</th>\n",
              "      <td>Apartamento</td>\n",
              "      <td>Cachambi</td>\n",
              "      <td>2</td>\n",
              "      <td>0</td>\n",
              "      <td>0</td>\n",
              "      <td>50</td>\n",
              "      <td>1300.0</td>\n",
              "      <td>301.0</td>\n",
              "      <td>17.0</td>\n",
              "      <td>26.00</td>\n",
              "      <td>Apartamento</td>\n",
              "    </tr>\n",
              "    <tr>\n",
              "      <th>7</th>\n",
              "      <td>Apartamento</td>\n",
              "      <td>Grajaú</td>\n",
              "      <td>2</td>\n",
              "      <td>1</td>\n",
              "      <td>0</td>\n",
              "      <td>70</td>\n",
              "      <td>1500.0</td>\n",
              "      <td>642.0</td>\n",
              "      <td>74.0</td>\n",
              "      <td>21.43</td>\n",
              "      <td>Apartamento</td>\n",
              "    </tr>\n",
              "    <tr>\n",
              "      <th>8</th>\n",
              "      <td>Apartamento</td>\n",
              "      <td>Lins de Vasconcelos</td>\n",
              "      <td>3</td>\n",
              "      <td>1</td>\n",
              "      <td>1</td>\n",
              "      <td>90</td>\n",
              "      <td>1500.0</td>\n",
              "      <td>455.0</td>\n",
              "      <td>14.0</td>\n",
              "      <td>16.67</td>\n",
              "      <td>Apartamento</td>\n",
              "    </tr>\n",
              "    <tr>\n",
              "      <th>...</th>\n",
              "      <td>...</td>\n",
              "      <td>...</td>\n",
              "      <td>...</td>\n",
              "      <td>...</td>\n",
              "      <td>...</td>\n",
              "      <td>...</td>\n",
              "      <td>...</td>\n",
              "      <td>...</td>\n",
              "      <td>...</td>\n",
              "      <td>...</td>\n",
              "      <td>...</td>\n",
              "    </tr>\n",
              "    <tr>\n",
              "      <th>21687</th>\n",
              "      <td>Quitinete</td>\n",
              "      <td>Glória</td>\n",
              "      <td>1</td>\n",
              "      <td>0</td>\n",
              "      <td>0</td>\n",
              "      <td>10</td>\n",
              "      <td>400.0</td>\n",
              "      <td>107.0</td>\n",
              "      <td>10.0</td>\n",
              "      <td>40.00</td>\n",
              "      <td>Apartamento</td>\n",
              "    </tr>\n",
              "    <tr>\n",
              "      <th>21728</th>\n",
              "      <td>Quitinete</td>\n",
              "      <td>Flamengo</td>\n",
              "      <td>1</td>\n",
              "      <td>0</td>\n",
              "      <td>0</td>\n",
              "      <td>23</td>\n",
              "      <td>900.0</td>\n",
              "      <td>605.0</td>\n",
              "      <td>0.0</td>\n",
              "      <td>39.13</td>\n",
              "      <td>Apartamento</td>\n",
              "    </tr>\n",
              "    <tr>\n",
              "      <th>21748</th>\n",
              "      <td>Quitinete</td>\n",
              "      <td>Centro</td>\n",
              "      <td>1</td>\n",
              "      <td>0</td>\n",
              "      <td>0</td>\n",
              "      <td>24</td>\n",
              "      <td>1100.0</td>\n",
              "      <td>323.0</td>\n",
              "      <td>0.0</td>\n",
              "      <td>45.83</td>\n",
              "      <td>Apartamento</td>\n",
              "    </tr>\n",
              "    <tr>\n",
              "      <th>21815</th>\n",
              "      <td>Quitinete</td>\n",
              "      <td>Copacabana</td>\n",
              "      <td>1</td>\n",
              "      <td>0</td>\n",
              "      <td>0</td>\n",
              "      <td>22</td>\n",
              "      <td>1500.0</td>\n",
              "      <td>286.0</td>\n",
              "      <td>200.0</td>\n",
              "      <td>68.18</td>\n",
              "      <td>Apartamento</td>\n",
              "    </tr>\n",
              "    <tr>\n",
              "      <th>21822</th>\n",
              "      <td>Quitinete</td>\n",
              "      <td>Centro</td>\n",
              "      <td>0</td>\n",
              "      <td>0</td>\n",
              "      <td>0</td>\n",
              "      <td>27</td>\n",
              "      <td>800.0</td>\n",
              "      <td>350.0</td>\n",
              "      <td>25.0</td>\n",
              "      <td>29.63</td>\n",
              "      <td>Apartamento</td>\n",
              "    </tr>\n",
              "  </tbody>\n",
              "</table>\n",
              "<p>19831 rows × 11 columns</p>\n",
              "</div>\n",
              "      <button class=\"colab-df-convert\" onclick=\"convertToInteractive('df-8bfce446-22a6-4348-97a1-7271b85c8de8')\"\n",
              "              title=\"Convert this dataframe to an interactive table.\"\n",
              "              style=\"display:none;\">\n",
              "        \n",
              "  <svg xmlns=\"http://www.w3.org/2000/svg\" height=\"24px\"viewBox=\"0 0 24 24\"\n",
              "       width=\"24px\">\n",
              "    <path d=\"M0 0h24v24H0V0z\" fill=\"none\"/>\n",
              "    <path d=\"M18.56 5.44l.94 2.06.94-2.06 2.06-.94-2.06-.94-.94-2.06-.94 2.06-2.06.94zm-11 1L8.5 8.5l.94-2.06 2.06-.94-2.06-.94L8.5 2.5l-.94 2.06-2.06.94zm10 10l.94 2.06.94-2.06 2.06-.94-2.06-.94-.94-2.06-.94 2.06-2.06.94z\"/><path d=\"M17.41 7.96l-1.37-1.37c-.4-.4-.92-.59-1.43-.59-.52 0-1.04.2-1.43.59L10.3 9.45l-7.72 7.72c-.78.78-.78 2.05 0 2.83L4 21.41c.39.39.9.59 1.41.59.51 0 1.02-.2 1.41-.59l7.78-7.78 2.81-2.81c.8-.78.8-2.07 0-2.86zM5.41 20L4 18.59l7.72-7.72 1.47 1.35L5.41 20z\"/>\n",
              "  </svg>\n",
              "      </button>\n",
              "      \n",
              "  <style>\n",
              "    .colab-df-container {\n",
              "      display:flex;\n",
              "      flex-wrap:wrap;\n",
              "      gap: 12px;\n",
              "    }\n",
              "\n",
              "    .colab-df-convert {\n",
              "      background-color: #E8F0FE;\n",
              "      border: none;\n",
              "      border-radius: 50%;\n",
              "      cursor: pointer;\n",
              "      display: none;\n",
              "      fill: #1967D2;\n",
              "      height: 32px;\n",
              "      padding: 0 0 0 0;\n",
              "      width: 32px;\n",
              "    }\n",
              "\n",
              "    .colab-df-convert:hover {\n",
              "      background-color: #E2EBFA;\n",
              "      box-shadow: 0px 1px 2px rgba(60, 64, 67, 0.3), 0px 1px 3px 1px rgba(60, 64, 67, 0.15);\n",
              "      fill: #174EA6;\n",
              "    }\n",
              "\n",
              "    [theme=dark] .colab-df-convert {\n",
              "      background-color: #3B4455;\n",
              "      fill: #D2E3FC;\n",
              "    }\n",
              "\n",
              "    [theme=dark] .colab-df-convert:hover {\n",
              "      background-color: #434B5C;\n",
              "      box-shadow: 0px 1px 3px 1px rgba(0, 0, 0, 0.15);\n",
              "      filter: drop-shadow(0px 1px 2px rgba(0, 0, 0, 0.3));\n",
              "      fill: #FFFFFF;\n",
              "    }\n",
              "  </style>\n",
              "\n",
              "      <script>\n",
              "        const buttonEl =\n",
              "          document.querySelector('#df-8bfce446-22a6-4348-97a1-7271b85c8de8 button.colab-df-convert');\n",
              "        buttonEl.style.display =\n",
              "          google.colab.kernel.accessAllowed ? 'block' : 'none';\n",
              "\n",
              "        async function convertToInteractive(key) {\n",
              "          const element = document.querySelector('#df-8bfce446-22a6-4348-97a1-7271b85c8de8');\n",
              "          const dataTable =\n",
              "            await google.colab.kernel.invokeFunction('convertToInteractive',\n",
              "                                                     [key], {});\n",
              "          if (!dataTable) return;\n",
              "\n",
              "          const docLinkHtml = 'Like what you see? Visit the ' +\n",
              "            '<a target=\"_blank\" href=https://colab.research.google.com/notebooks/data_table.ipynb>data table notebook</a>'\n",
              "            + ' to learn more about interactive tables.';\n",
              "          element.innerHTML = '';\n",
              "          dataTable['output_type'] = 'display_data';\n",
              "          await google.colab.output.renderOutput(dataTable, element);\n",
              "          const docLink = document.createElement('div');\n",
              "          docLink.innerHTML = docLinkHtml;\n",
              "          element.appendChild(docLink);\n",
              "        }\n",
              "      </script>\n",
              "    </div>\n",
              "  </div>\n",
              "  "
            ]
          },
          "metadata": {},
          "execution_count": 75
        }
      ]
    },
    {
      "cell_type": "code",
      "source": [
        "dados_new.boxplot(['Valor'], by = ['Tipo'])"
      ],
      "metadata": {
        "colab": {
          "base_uri": "https://localhost:8080/",
          "height": 492
        },
        "id": "j4rV8erajxzt",
        "outputId": "7017752c-37ba-42a0-dac9-157b8d73142e"
      },
      "execution_count": 76,
      "outputs": [
        {
          "output_type": "stream",
          "name": "stderr",
          "text": [
            "/usr/local/lib/python3.7/dist-packages/matplotlib/cbook/__init__.py:1376: VisibleDeprecationWarning: Creating an ndarray from ragged nested sequences (which is a list-or-tuple of lists-or-tuples-or ndarrays with different lengths or shapes) is deprecated. If you meant to do this, you must specify 'dtype=object' when creating the ndarray.\n",
            "  X = np.atleast_1d(X.T if isinstance(X, np.ndarray) else np.asarray(X))\n"
          ]
        },
        {
          "output_type": "execute_result",
          "data": {
            "text/plain": [
              "<matplotlib.axes._subplots.AxesSubplot at 0x7fa02b8d06d0>"
            ]
          },
          "metadata": {},
          "execution_count": 76
        },
        {
          "output_type": "display_data",
          "data": {
            "text/plain": [
              "<Figure size 1008x432 with 1 Axes>"
            ],
            "image/png": "[encoded data removed]"
          },
          "metadata": {
            "needs_background": "light"
          }
        }
      ]
    },
    {
      "cell_type": "code",
      "source": [
        "dados_new.to_csv('aluguel_residencial_sem_autliers', sep = ';', index = False)"
      ],
      "metadata": {
        "id": "A9P5jVxYkUFe"
      },
      "execution_count": 77,
      "outputs": []
    },
    {
      "cell_type": "code",
      "source": [],
      "metadata": {
        "id": "e9kWCfplleFt"
      },
      "execution_count": null,
      "outputs": []
    }
  ]
}